{
  "nbformat": 4,
  "nbformat_minor": 0,
  "metadata": {
    "kernelspec": {
      "display_name": "Python 3",
      "language": "python",
      "name": "python3"
    },
    "language_info": {
      "codemirror_mode": {
        "name": "ipython",
        "version": 3
      },
      "file_extension": ".py",
      "mimetype": "text/x-python",
      "name": "python",
      "nbconvert_exporter": "python",
      "pygments_lexer": "ipython3",
      "version": "3.6.5"
    },
    "colab": {
      "name": "kNN.ipynb",
      "provenance": [],
      "include_colab_link": true
    }
  },
  "cells": [
    {
      "cell_type": "markdown",
      "metadata": {
        "id": "view-in-github",
        "colab_type": "text"
      },
      "source": [
        "<a href=\"https://colab.research.google.com/github/samtam0714/ML/blob/master/kNN.ipynb\" target=\"_parent\"><img src=\"https://colab.research.google.com/assets/colab-badge.svg\" alt=\"Open In Colab\"/></a>"
      ]
    },
    {
      "cell_type": "code",
      "metadata": {
        "id": "SX0mzcqPc2jO"
      },
      "source": [
        "#Load Libraries\n",
        "import pandas as pd\n",
        "import numpy as np\n",
        "import matplotlib.pyplot as plt\n",
        "%matplotlib inline  "
      ],
      "execution_count": null,
      "outputs": []
    },
    {
      "cell_type": "code",
      "metadata": {
        "id": "OI0Ep_kqc2jP"
      },
      "source": [
        "#Load Dataset\n",
        "dataset = pd.read_csv('./iris.csv')"
      ],
      "execution_count": null,
      "outputs": []
    },
    {
      "cell_type": "code",
      "metadata": {
        "id": "O5WjYhs4c2jP",
        "outputId": "05284e3a-19b5-4148-dc7f-f6fb620b97e7"
      },
      "source": [
        "#View first fiew rows of the dataset\n",
        "print(dataset.head())"
      ],
      "execution_count": null,
      "outputs": [
        {
          "output_type": "stream",
          "text": [
            "   sepal_length  sepal_width  petal_length  petal_width species\n",
            "0           5.1          3.5           1.4          0.2  setosa\n",
            "1           4.9          3.0           1.4          0.2  setosa\n",
            "2           4.7          3.2           1.3          0.2  setosa\n",
            "3           4.6          3.1           1.5          0.2  setosa\n",
            "4           5.0          3.6           1.4          0.2  setosa\n"
          ],
          "name": "stdout"
        }
      ]
    },
    {
      "cell_type": "code",
      "metadata": {
        "id": "5TGHHezLc2jQ"
      },
      "source": [
        "#Creating X and Y variables\n",
        "X = dataset.drop('species', axis=1).values\n",
        "y = dataset['species']"
      ],
      "execution_count": null,
      "outputs": []
    },
    {
      "cell_type": "code",
      "metadata": {
        "id": "8WGDzrNcc2jQ"
      },
      "source": [
        "#Load library for Training Datasets\n",
        "from sklearn.model_selection import train_test_split\n",
        "X_train, X_test, y_train, y_test = train_test_split(X, y, test_size = 0.20, random_state = 100)"
      ],
      "execution_count": null,
      "outputs": []
    },
    {
      "cell_type": "code",
      "metadata": {
        "id": "D2px-I3_c2jQ"
      },
      "source": [
        "#Load library for scaling\n",
        "from sklearn.preprocessing import StandardScaler\n",
        "sc = StandardScaler()\n",
        "X_train = sc.fit_transform(X_train)\n",
        "X_test = sc.fit_transform(X_test)"
      ],
      "execution_count": null,
      "outputs": []
    },
    {
      "cell_type": "code",
      "metadata": {
        "id": "cp71jJrCc2jQ"
      },
      "source": [
        "#Search for an optimal value of K for KNN\n",
        "from sklearn.model_selection import cross_val_score\n",
        "from sklearn.neighbors import KNeighborsClassifier\n",
        "k_range = range(1, 31)\n",
        "k_scores = []\n",
        "for k in k_range:\n",
        "    knn = KNeighborsClassifier(n_neighbors=k)\n",
        "    #obtain cross_val_score for KNeighborsClassifier with k neighbours\n",
        "    scores = cross_val_score(knn, X_train, y_train, cv=10, scoring='accuracy')\n",
        "    #append mean of scores for k neighbors to k_scores list\n",
        "    k_scores.append(scores.mean())"
      ],
      "execution_count": null,
      "outputs": []
    },
    {
      "cell_type": "code",
      "metadata": {
        "id": "_Eq3nJDAc2jQ",
        "outputId": "85be1a7c-af34-4a5b-a0d1-57dd35d84734"
      },
      "source": [
        "#Print Best Score\n",
        "MSE = [1 - x for x in k_scores]\n",
        "best_k = k_range[MSE.index(min(MSE))]\n",
        "print(\"The optimal number of neighbors is %d.\" % best_k)"
      ],
      "execution_count": null,
      "outputs": [
        {
          "output_type": "stream",
          "text": [
            "The optimal number of neighbors is 4.\n"
          ],
          "name": "stdout"
        }
      ]
    },
    {
      "cell_type": "code",
      "metadata": {
        "id": "-93nT_ihc2jQ"
      },
      "source": [
        "#Create Optimal KNN model\n",
        "classifier = KNeighborsClassifier(n_neighbors = 4)"
      ],
      "execution_count": null,
      "outputs": []
    },
    {
      "cell_type": "code",
      "metadata": {
        "id": "dzp4IOR_c2jQ",
        "outputId": "57493bd0-510a-464c-f470-7ad6ffc3aae5"
      },
      "source": [
        "#Fit KNN Model\n",
        "classifier.fit(X_train, y_train.ravel())"
      ],
      "execution_count": null,
      "outputs": [
        {
          "output_type": "execute_result",
          "data": {
            "text/plain": [
              "KNeighborsClassifier(algorithm='auto', leaf_size=30, metric='minkowski',\n",
              "           metric_params=None, n_jobs=1, n_neighbors=4, p=2,\n",
              "           weights='uniform')"
            ]
          },
          "metadata": {
            "tags": []
          },
          "execution_count": 55
        }
      ]
    },
    {
      "cell_type": "code",
      "metadata": {
        "id": "IrGNu7Eic2jQ"
      },
      "source": [
        "#Prediction\n",
        "y_pred = classifier.predict(X_test)"
      ],
      "execution_count": null,
      "outputs": []
    },
    {
      "cell_type": "code",
      "metadata": {
        "id": "tiMfEe7pc2jQ",
        "outputId": "3ad9a905-ea41-4c05-cb56-55071b96f24a"
      },
      "source": [
        "#Evaluate the Algorithum\n",
        "from sklearn.metrics import classification_report, confusion_matrix  \n",
        "target_names=['Setosa','Versicolor','Virginica']\n",
        "print(confusion_matrix(y_test,y_pred))  \n",
        "print(classification_report(y_test,y_pred,target_names=target_names)) "
      ],
      "execution_count": null,
      "outputs": [
        {
          "output_type": "stream",
          "text": [
            "[[11  0  0]\n",
            " [ 0  6  0]\n",
            " [ 0  2 11]]\n",
            "             precision    recall  f1-score   support\n",
            "\n",
            "     Setosa       1.00      1.00      1.00        11\n",
            " Versicolor       0.75      1.00      0.86         6\n",
            "  Virginica       1.00      0.85      0.92        13\n",
            "\n",
            "avg / total       0.95      0.93      0.94        30\n",
            "\n"
          ],
          "name": "stdout"
        }
      ]
    },
    {
      "cell_type": "code",
      "metadata": {
        "id": "Dmzw3_0jc2jQ",
        "outputId": "b43aad38-7818-44d4-a4ae-0ada94fae9e3"
      },
      "source": [
        "#Alternative Method\n",
        "\n",
        "error = []\n",
        "for i in range(1, 31):  \n",
        "    knn1 = KNeighborsClassifier(n_neighbors=i)\n",
        "    knn1.fit(X_train, y_train)\n",
        "    pred_i = knn1.predict(X_test)\n",
        "    error.append(np.mean(pred_i != y_test))\n",
        " \n",
        "plt.figure(figsize=(12, 6))  \n",
        "plt.plot(range(1, 31), error, color='red', linestyle='dashed', marker='o',  \n",
        "         markerfacecolor='blue', markersize=10)\n",
        "plt.title('Error Rate K Value')  \n",
        "plt.xlabel('K Value')  \n",
        "plt.ylabel('Mean Error')     "
      ],
      "execution_count": null,
      "outputs": [
        {
          "output_type": "execute_result",
          "data": {
            "text/plain": [
              "Text(0,0.5,'Mean Error')"
            ]
          },
          "metadata": {
            "tags": []
          },
          "execution_count": 60
        },
        {
          "output_type": "display_data",
          "data": {
            "image/png": "[encoded data removed]",
            "text/plain": [
              "<Figure size 864x432 with 1 Axes>"
            ]
          },
          "metadata": {
            "tags": []
          }
        }
      ]
    },
    {
      "cell_type": "code",
      "metadata": {
        "id": "yRTkRba9c2jQ"
      },
      "source": [
        "#Create KNN model with 5\n",
        "classifier2 = KNeighborsClassifier(n_neighbors = 5)"
      ],
      "execution_count": null,
      "outputs": []
    },
    {
      "cell_type": "code",
      "metadata": {
        "id": "i-eNlLbYc2jQ",
        "outputId": "bae86a3f-bada-478e-8a7c-3a4a76c09487"
      },
      "source": [
        "#Fit KNN Model with 5\n",
        "classifier2.fit(X_train, y_train.ravel())"
      ],
      "execution_count": null,
      "outputs": [
        {
          "output_type": "execute_result",
          "data": {
            "text/plain": [
              "KNeighborsClassifier(algorithm='auto', leaf_size=30, metric='minkowski',\n",
              "           metric_params=None, n_jobs=1, n_neighbors=5, p=2,\n",
              "           weights='uniform')"
            ]
          },
          "metadata": {
            "tags": []
          },
          "execution_count": 62
        }
      ]
    },
    {
      "cell_type": "code",
      "metadata": {
        "id": "5WJOixn_c2jQ"
      },
      "source": [
        "#Prediction with 5\n",
        "y_pred2 = classifier2.predict(X_test)"
      ],
      "execution_count": null,
      "outputs": []
    },
    {
      "cell_type": "code",
      "metadata": {
        "id": "MWldmp22c2jQ",
        "outputId": "dd50c532-24ed-4e82-de44-c92d5fed56fa"
      },
      "source": [
        "#Evaluate the Algorithum\n",
        "from sklearn.metrics import classification_report, confusion_matrix  \n",
        "target_names=['Setosa','Versicolor','Virginica']\n",
        "print(confusion_matrix(y_test,y_pred2))  \n",
        "print(classification_report(y_test,y_pred2,target_names=target_names)) "
      ],
      "execution_count": null,
      "outputs": [
        {
          "output_type": "stream",
          "text": [
            "[[11  0  0]\n",
            " [ 0  6  0]\n",
            " [ 0  1 12]]\n",
            "             precision    recall  f1-score   support\n",
            "\n",
            "     Setosa       1.00      1.00      1.00        11\n",
            " Versicolor       0.86      1.00      0.92         6\n",
            "  Virginica       1.00      0.92      0.96        13\n",
            "\n",
            "avg / total       0.97      0.97      0.97        30\n",
            "\n"
          ],
          "name": "stdout"
        }
      ]
    },
    {
      "cell_type": "code",
      "metadata": {
        "id": "Qi9D1GT4c2jR"
      },
      "source": [
        ""
      ],
      "execution_count": null,
      "outputs": []
    }
  ]
}